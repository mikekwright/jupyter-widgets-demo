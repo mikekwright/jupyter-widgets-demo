{
 "cells": [
  {
   "cell_type": "markdown",
   "metadata": {},
   "source": [
    "Jupyter Widgets (with pywidgets)\n",
    "============================\n",
    "\n",
    "Today we are going to discuss creating interactive widgets in a jupyter notebook using python and the pip\n",
    "package of `pywidgets`.  "
   ]
  },
  {
   "cell_type": "markdown",
   "metadata": {},
   "source": [
    "## Installation\n",
    "\n",
    "The installation requires that either `jupyter notebook` or `jupyter lab` is installed.  The process is mostly\n",
    "the same between the two, only altering around the time the extension activates.  \n",
    "\n",
    "#### Step 1 - Install jupyter\n",
    "\n",
    "We start by installing jupyter (lab or notebook)\n",
    "\n",
    "    pip install jupyter\n",
    "    pip install jupyterlab\n",
    "    \n",
    "#### Step 2 - Install pywidgets\n",
    "\n",
    "This package contains the core of python widgets\n",
    "\n",
    "    pip install pywidgets\n",
    "    \n",
    "Installing this package gives us python access to the objects, but will not setup jupyter to render them correctly,\n",
    "for this to occur you must enable the extensions. \n",
    "\n",
    "    # Jupyter Notebook\n",
    "    jupyter nbextension enable --py widgetsnbextension\n",
    "\n",
    "    # Jupyter Lab\n",
    "    jupyter labextension install @jupyter-widgets/jupyterlab-manager\n",
    "\n",
    "**NOTE:** If you are installing for jupyter lab you will also need to also have nodejs v0.5+ installed.  \n",
    "\n",
    "#### Step 3 - Load Package\n",
    "\n",
    "Finally, once you have jupyter running and a notebook open you will need to just import the widgets package.  \n",
    "\n",
    "    import ipywidgets as widgets"
   ]
  },
  {
   "cell_type": "code",
   "execution_count": 1,
   "metadata": {},
   "outputs": [],
   "source": [
    "import ipywidgets as widgets"
   ]
  },
  {
   "cell_type": "markdown",
   "metadata": {},
   "source": [
    "## Widgets `Hello World`\n",
    "\n",
    "There are a number of widgets that have been built and you have access to these widgets through the imported `widgets`\n",
    "object.  \n",
    "\n",
    "For this example below we are going to just create a text box that has the value `Hello World`.  "
   ]
  },
  {
   "cell_type": "code",
   "execution_count": 2,
   "metadata": {},
   "outputs": [
    {
     "data": {
      "application/vnd.jupyter.widget-view+json": {
       "model_id": "1f4a9b4bd4474c8b811464f5c41ec989",
       "version_major": 2,
       "version_minor": 0
      },
      "text/plain": [
       "Text(value='Hello World')"
      ]
     },
     "metadata": {},
     "output_type": "display_data"
    }
   ],
   "source": [
    "widgets.Text('Hello World')"
   ]
  },
  {
   "cell_type": "markdown",
   "metadata": {},
   "source": [
    "Much like other elements in a jupyter notebook, if the result of the last statement can be rendered, jupyter will\n",
    "render the object.  However if it is not the result of the last statement you must explicitly render is using the\n",
    "jupyter built-in `display` call.  "
   ]
  },
  {
   "cell_type": "code",
   "execution_count": 3,
   "metadata": {},
   "outputs": [
    {
     "data": {
      "application/vnd.jupyter.widget-view+json": {
       "model_id": "c45f86039c7d43c8a56c3d55f65767d7",
       "version_major": 2,
       "version_minor": 0
      },
      "text/plain": [
       "Text(value='Now you see me')"
      ]
     },
     "metadata": {},
     "output_type": "display_data"
    }
   ],
   "source": [
    "display(widgets.Text('Now you see me'))\n",
    "\n",
    "widgets.Text(\"Now you don't\")\n",
    "\n",
    "# The below expression is added so that the above widgets.Text is not the last expression. \n",
    "None"
   ]
  },
  {
   "cell_type": "markdown",
   "metadata": {},
   "source": [
    "## Common widgets\n",
    "\n",
    "There are a number of common widgets that you can work with.  \n",
    "\n",
    "- TextBox\n",
    "- TextArea\n",
    "- Button\n",
    "- Checkbox\n",
    "- DropDown\n"
   ]
  },
  {
   "cell_type": "code",
   "execution_count": 4,
   "metadata": {},
   "outputs": [
    {
     "data": {
      "application/vnd.jupyter.widget-view+json": {
       "model_id": "95186f71253547e3a5bbc167454e19de",
       "version_major": 2,
       "version_minor": 0
      },
      "text/plain": [
       "Text(value='This is a textbox')"
      ]
     },
     "metadata": {},
     "output_type": "display_data"
    },
    {
     "data": {
      "application/vnd.jupyter.widget-view+json": {
       "model_id": "08068a99ef5e4f1f9caaac6d2c09b469",
       "version_major": 2,
       "version_minor": 0
      },
      "text/plain": [
       "Textarea(value='This is a textarea')"
      ]
     },
     "metadata": {},
     "output_type": "display_data"
    },
    {
     "data": {
      "application/vnd.jupyter.widget-view+json": {
       "model_id": "dd739464dc604ce8b12863a155ec1ce4",
       "version_major": 2,
       "version_minor": 0
      },
      "text/plain": [
       "Button(description='This is a button', style=ButtonStyle())"
      ]
     },
     "metadata": {},
     "output_type": "display_data"
    },
    {
     "data": {
      "application/vnd.jupyter.widget-view+json": {
       "model_id": "1256ec4741d8454cb58fa09ea789fff7",
       "version_major": 2,
       "version_minor": 0
      },
      "text/plain": [
       "Checkbox(value=False, description='This is my box')"
      ]
     },
     "metadata": {},
     "output_type": "display_data"
    },
    {
     "data": {
      "application/vnd.jupyter.widget-view+json": {
       "model_id": "1f6c57036f0b4711b682696dfef35e5e",
       "version_major": 2,
       "version_minor": 0
      },
      "text/plain": [
       "Dropdown(description='This is the dropdown', options=('Me', 'Myself', 'I'), value='Me')"
      ]
     },
     "metadata": {},
     "output_type": "display_data"
    }
   ],
   "source": [
    "display(widgets.Text('This is a textbox'))\n",
    "display(widgets.Textarea('This is a textarea'))\n",
    "display(widgets.Button(description='This is a button'))\n",
    "display(widgets.Checkbox(description='This is my box'))\n",
    "display(widgets.Dropdown(description='This is the dropdown', options=['Me', 'Myself', 'I']))"
   ]
  },
  {
   "cell_type": "markdown",
   "metadata": {},
   "source": [
    "## Interact with widgets\n",
    "\n",
    "Once you have a widget on display, you can interact with that widget, setting or reading its value through code.\n",
    "\n",
    "For this next section we are going to create textbox in one cell and update its text value in a different cell.  "
   ]
  },
  {
   "cell_type": "code",
   "execution_count": 5,
   "metadata": {},
   "outputs": [
    {
     "data": {
      "application/vnd.jupyter.widget-view+json": {
       "model_id": "376d70c90d3d4ad09462ec6cf34ec32a",
       "version_major": 2,
       "version_minor": 0
      },
      "text/plain": [
       "Text(value='This is the demo')"
      ]
     },
     "metadata": {},
     "output_type": "display_data"
    }
   ],
   "source": [
    "demo_box = widgets.Text('This is the demo')\n",
    "display(demo_box)"
   ]
  },
  {
   "cell_type": "code",
   "execution_count": 6,
   "metadata": {},
   "outputs": [],
   "source": [
    "demo_box.value = 'New description'"
   ]
  },
  {
   "cell_type": "markdown",
   "metadata": {},
   "source": [
    "Lets try another example, in this case we are going to have a couple of checkboxes that are used\n",
    "to determine which items should be printed to the screen.  "
   ]
  },
  {
   "cell_type": "code",
   "execution_count": 7,
   "metadata": {},
   "outputs": [
    {
     "data": {
      "application/vnd.jupyter.widget-view+json": {
       "model_id": "0b2df7e9ff8f429da88609d517a31d02",
       "version_major": 2,
       "version_minor": 0
      },
      "text/plain": [
       "Checkbox(value=False, description='Name')"
      ]
     },
     "metadata": {},
     "output_type": "display_data"
    },
    {
     "data": {
      "application/vnd.jupyter.widget-view+json": {
       "model_id": "8d1ff9a87c17401b9ff572510066b552",
       "version_major": 2,
       "version_minor": 0
      },
      "text/plain": [
       "Checkbox(value=False, description='Email')"
      ]
     },
     "metadata": {},
     "output_type": "display_data"
    },
    {
     "data": {
      "application/vnd.jupyter.widget-view+json": {
       "model_id": "acf296445c774ed1bd800fbaa5dc9993",
       "version_major": 2,
       "version_minor": 0
      },
      "text/plain": [
       "Checkbox(value=False, description='Score')"
      ]
     },
     "metadata": {},
     "output_type": "display_data"
    }
   ],
   "source": [
    "name_box = widgets.Checkbox(description='Name')\n",
    "email_box = widgets.Checkbox(description='Email')\n",
    "score_box = widgets.Checkbox(description='Score')\n",
    "\n",
    "display(name_box)\n",
    "display(email_box)\n",
    "display(score_box)"
   ]
  },
  {
   "cell_type": "code",
   "execution_count": 10,
   "metadata": {},
   "outputs": [
    {
     "name": "stdout",
     "output_type": "stream",
     "text": [
      "Mike exmaple@test.com Score 10\n"
     ]
    }
   ],
   "source": [
    "if name_box.value:\n",
    "    print('Mike', end=' ')\n",
    "\n",
    "if email_box.value:\n",
    "    print('exmaple@test.com', end=' ')\n",
    "\n",
    "if score_box.value:\n",
    "    print(f'Score {10}')"
   ]
  },
  {
   "cell_type": "markdown",
   "metadata": {},
   "source": [
    "## Jupyter widgets events\n",
    "\n",
    "While we can interact by having different cells adjust or read previous values using a polling system, it would\n",
    "be far more useful to have an event driven system that we can use to update on the fly.\n",
    "\n",
    "For this next example we are going to take a list of names and put a new name in a text box after each click\n",
    "of a button.  "
   ]
  },
  {
   "cell_type": "code",
   "execution_count": 12,
   "metadata": {},
   "outputs": [
    {
     "data": {
      "application/vnd.jupyter.widget-view+json": {
       "model_id": "d73826d4ca084a7c847cc13a4245a522",
       "version_major": 2,
       "version_minor": 0
      },
      "text/plain": [
       "Text(value='No one yet')"
      ]
     },
     "metadata": {},
     "output_type": "display_data"
    },
    {
     "data": {
      "application/vnd.jupyter.widget-view+json": {
       "model_id": "276b436631d74cadbe487a2196413c15",
       "version_major": 2,
       "version_minor": 0
      },
      "text/plain": [
       "Button(description='Next Name', style=ButtonStyle())"
      ]
     },
     "metadata": {},
     "output_type": "display_data"
    },
    {
     "name": "stdout",
     "output_type": "stream",
     "text": [
      "Start\n",
      "finish\n",
      "Start\n",
      "finish\n",
      "Start\n",
      "finish\n"
     ]
    }
   ],
   "source": [
    "from time import sleep\n",
    "from itertools import cycle\n",
    "\n",
    "names = cycle(['Mike', 'Frank', 'George', 'Blair', 'Steven'])\n",
    "\n",
    "name_box = widgets.Text(value='No one yet')\n",
    "\n",
    "name_button = widgets.Button(description='Next Name')\n",
    "\n",
    "def name_button_event(button):\n",
    "    name_button.disabled = True\n",
    "    \n",
    "    print('Start')\n",
    "    for i, n in zip(range(10), names):\n",
    "        name_box.value = n\n",
    "        sleep(1)\n",
    "    print('finish')\n",
    "        \n",
    "    name_button.disabled = False\n",
    "\n",
    "name_button.on_click(name_button_event)\n",
    "\n",
    "display(name_box)\n",
    "display(name_button)"
   ]
  },
  {
   "cell_type": "markdown",
   "metadata": {},
   "source": [
    "## Widget format/layouts\n",
    "\n",
    "So far we have just displayed the widgets in order for the display call and without any sort of formatting. For this\n",
    "next section lets cover the basics and demonstrate how you can `style` a widget (**NOTE:** This is limited in functionality)\n",
    "as well as place images in relation to each other.  \n",
    "\n",
    "The first thing we are going to want to do is to display a `label` that has a border.  "
   ]
  },
  {
   "cell_type": "code",
   "execution_count": 26,
   "metadata": {
    "scrolled": true
   },
   "outputs": [
    {
     "data": {
      "application/vnd.jupyter.widget-view+json": {
       "model_id": "eb6b04d8e5184f39bb70e120448f4895",
       "version_major": 2,
       "version_minor": 0
      },
      "text/plain": [
       "Label(value='This is one', layout=Layout(border='dashed 4px lightblue', padding='5px'))"
      ]
     },
     "metadata": {},
     "output_type": "display_data"
    }
   ],
   "source": [
    "widgets.Label('This is one', layout=widgets.Layout(border='dashed 4px lightblue', padding=\"5px\"))"
   ]
  },
  {
   "cell_type": "markdown",
   "metadata": {},
   "source": [
    "**NOTE:** It is important to call out that not all css attributes are accessible using a widgets `layout`, \n",
    "and that even some attributes are only accessible from certain widgets.  "
   ]
  },
  {
   "cell_type": "markdown",
   "metadata": {},
   "source": [
    "Now if you have a group of elements you want placed in relationship to each other, you can group widgets into a\n",
    "container widgets that can then be displayed.  The two container widgets we are going to discuss are:\n",
    "\n",
    "- HBox\n",
    "- VBox\n",
    "\n",
    "For this next section we are going to display 4 buttons in 2 columns and 2 rows.   "
   ]
  },
  {
   "cell_type": "code",
   "execution_count": 30,
   "metadata": {},
   "outputs": [
    {
     "data": {
      "application/vnd.jupyter.widget-view+json": {
       "model_id": "e8114c801207442088eb6225d6e126d8",
       "version_major": 2,
       "version_minor": 0
      },
      "text/plain": [
       "HBox(children=(VBox(children=(Button(description='1', style=ButtonStyle()), Button(description='2', style=Butt…"
      ]
     },
     "metadata": {},
     "output_type": "display_data"
    }
   ],
   "source": [
    "column_1 = widgets.VBox([widgets.Button(description='1'), widgets.Button(description='2')])\n",
    "column_2 = widgets.VBox([widgets.Button(description='3'), widgets.Button(description='4')])\n",
    "display(widgets.HBox([column_1, column_2]))"
   ]
  },
  {
   "cell_type": "markdown",
   "metadata": {},
   "source": [
    "If you need or want even more control in the rendering you can use the `Box` widgets which enables you to\n",
    "use basically all features available to the `flexbox` display type. "
   ]
  },
  {
   "cell_type": "markdown",
   "metadata": {},
   "source": [
    "## Put it together (Tic-Tac-Toe)\n",
    "\n",
    "For this last part we are going to put everything together to quickly create a tic-tac-toe game interface.  The game\n",
    "itself is found in the `widgets_demo.tictactoe` module.\n",
    "\n",
    "For this next section we are going to create a tic-tac-toe board and a couple of widgets that will render an interactive\n",
    "game for us, as well as trigger events. "
   ]
  },
  {
   "cell_type": "code",
   "execution_count": 31,
   "metadata": {},
   "outputs": [
    {
     "data": {
      "application/vnd.jupyter.widget-view+json": {
       "model_id": "2f5ad60ac8c545e19ff66dec191a7968",
       "version_major": 2,
       "version_minor": 0
      },
      "text/plain": [
       "VBox(children=(Label(value='', layout=Layout(flex='1 1 auto', justify_content='center')), HBox(children=(Butto…"
      ]
     },
     "metadata": {},
     "output_type": "display_data"
    }
   ],
   "source": [
    "from widgets_demo.tictactoe import TicTacToe\n",
    "\n",
    "#\n",
    "# Creating the widgets and rendering to the screen\n",
    "#\n",
    "status_label = widgets.Label(layout=widgets.Layout(flex='1 1 auto', justify_content='center'))\n",
    "game_buttons = [widgets.Button(layout=widgets.Layout(flex='1 1 auto', width='auto')) for _ in range(9)]\n",
    "clear_button = widgets.Button(description='Clear', layout=widgets.Layout(flex='1 1 auto', width='auto', margin='20px'))\n",
    "\n",
    "button_vboxes = [\n",
    "    widgets.HBox([game_buttons[(s*3) + i] for i in range(0, 3)], layout=widgets.Layout(width='100%'))\n",
    "    for s in range(3)\n",
    "]\n",
    "\n",
    "display(widgets.VBox([\n",
    "    status_label,\n",
    "    *button_vboxes,\n",
    "    clear_button\n",
    "]))\n",
    "\n",
    "\n",
    "#\n",
    "# Creating the game\n",
    "#\n",
    "game = TicTacToe()\n",
    "\n",
    "def update_board_output():\n",
    "    board = game.board\n",
    "    for piece, button in zip(board, game_buttons):\n",
    "        if piece is None:\n",
    "            button.disabled = False\n",
    "            button.description = ' '\n",
    "        else:\n",
    "            button.disabled = True\n",
    "            button.description = piece\n",
    "    \n",
    "    winner = game.winner\n",
    "    if winner is not None:\n",
    "        status_label.value = f'We have a winner: {winner}'\n",
    "        for button in game_buttons:\n",
    "            button.disabled = True\n",
    "        return\n",
    "    \n",
    "    player = game.turn\n",
    "    status_label.value = f\"player {player}'s turn\"\n",
    "    \n",
    "            \n",
    "update_board_output()\n",
    "    \n",
    "#\n",
    "# Adding the events\n",
    "#\n",
    "def clear_click_event(button):\n",
    "    game.clear()\n",
    "    update_board_output()\n",
    "\n",
    "\n",
    "def game_piece_click_event(button):\n",
    "    button_index = game_buttons.index(button)\n",
    "    game.play_point(button_index)\n",
    "    update_board_output()\n",
    "    \n",
    "\n",
    "for button in game_buttons:\n",
    "    button.on_click(game_piece_click_event)\n",
    "    \n",
    "clear_button.on_click(clear_click_event)"
   ]
  },
  {
   "cell_type": "markdown",
   "metadata": {},
   "source": [
    "## Extra stuff\n",
    "\n",
    "There is one final item that I think would be useful, especially when trying to better understand how algorithms\n",
    "and operations interact.  In the below cell we are going to define the gaussian function and plot it, in such a way\n",
    "that $\\sigma$ can be adjusted to see different outputs. \n",
    "\n",
    "$$g(x) = \\frac{1}{\\sigma{\\sqrt{2\\pi}}}e^{-\\frac{1}{2}(\\frac{x-\\mu}{\\sigma})^2}$$"
   ]
  },
  {
   "cell_type": "code",
   "execution_count": 32,
   "metadata": {
    "scrolled": false
   },
   "outputs": [
    {
     "data": {
      "application/javascript": [
       "/* Put everything inside the global mpl namespace */\n",
       "window.mpl = {};\n",
       "\n",
       "\n",
       "mpl.get_websocket_type = function() {\n",
       "    if (typeof(WebSocket) !== 'undefined') {\n",
       "        return WebSocket;\n",
       "    } else if (typeof(MozWebSocket) !== 'undefined') {\n",
       "        return MozWebSocket;\n",
       "    } else {\n",
       "        alert('Your browser does not have WebSocket support.' +\n",
       "              'Please try Chrome, Safari or Firefox ≥ 6. ' +\n",
       "              'Firefox 4 and 5 are also supported but you ' +\n",
       "              'have to enable WebSockets in about:config.');\n",
       "    };\n",
       "}\n",
       "\n",
       "mpl.figure = function(figure_id, websocket, ondownload, parent_element) {\n",
       "    this.id = figure_id;\n",
       "\n",
       "    this.ws = websocket;\n",
       "\n",
       "    this.supports_binary = (this.ws.binaryType != undefined);\n",
       "\n",
       "    if (!this.supports_binary) {\n",
       "        var warnings = document.getElementById(\"mpl-warnings\");\n",
       "        if (warnings) {\n",
       "            warnings.style.display = 'block';\n",
       "            warnings.textContent = (\n",
       "                \"This browser does not support binary websocket messages. \" +\n",
       "                    \"Performance may be slow.\");\n",
       "        }\n",
       "    }\n",
       "\n",
       "    this.imageObj = new Image();\n",
       "\n",
       "    this.context = undefined;\n",
       "    this.message = undefined;\n",
       "    this.canvas = undefined;\n",
       "    this.rubberband_canvas = undefined;\n",
       "    this.rubberband_context = undefined;\n",
       "    this.format_dropdown = undefined;\n",
       "\n",
       "    this.image_mode = 'full';\n",
       "\n",
       "    this.root = $('<div/>');\n",
       "    this._root_extra_style(this.root)\n",
       "    this.root.attr('style', 'display: inline-block');\n",
       "\n",
       "    $(parent_element).append(this.root);\n",
       "\n",
       "    this._init_header(this);\n",
       "    this._init_canvas(this);\n",
       "    this._init_toolbar(this);\n",
       "\n",
       "    var fig = this;\n",
       "\n",
       "    this.waiting = false;\n",
       "\n",
       "    this.ws.onopen =  function () {\n",
       "            fig.send_message(\"supports_binary\", {value: fig.supports_binary});\n",
       "            fig.send_message(\"send_image_mode\", {});\n",
       "            if (mpl.ratio != 1) {\n",
       "                fig.send_message(\"set_dpi_ratio\", {'dpi_ratio': mpl.ratio});\n",
       "            }\n",
       "            fig.send_message(\"refresh\", {});\n",
       "        }\n",
       "\n",
       "    this.imageObj.onload = function() {\n",
       "            if (fig.image_mode == 'full') {\n",
       "                // Full images could contain transparency (where diff images\n",
       "                // almost always do), so we need to clear the canvas so that\n",
       "                // there is no ghosting.\n",
       "                fig.context.clearRect(0, 0, fig.canvas.width, fig.canvas.height);\n",
       "            }\n",
       "            fig.context.drawImage(fig.imageObj, 0, 0);\n",
       "        };\n",
       "\n",
       "    this.imageObj.onunload = function() {\n",
       "        fig.ws.close();\n",
       "    }\n",
       "\n",
       "    this.ws.onmessage = this._make_on_message_function(this);\n",
       "\n",
       "    this.ondownload = ondownload;\n",
       "}\n",
       "\n",
       "mpl.figure.prototype._init_header = function() {\n",
       "    var titlebar = $(\n",
       "        '<div class=\"ui-dialog-titlebar ui-widget-header ui-corner-all ' +\n",
       "        'ui-helper-clearfix\"/>');\n",
       "    var titletext = $(\n",
       "        '<div class=\"ui-dialog-title\" style=\"width: 100%; ' +\n",
       "        'text-align: center; padding: 3px;\"/>');\n",
       "    titlebar.append(titletext)\n",
       "    this.root.append(titlebar);\n",
       "    this.header = titletext[0];\n",
       "}\n",
       "\n",
       "\n",
       "\n",
       "mpl.figure.prototype._canvas_extra_style = function(canvas_div) {\n",
       "\n",
       "}\n",
       "\n",
       "\n",
       "mpl.figure.prototype._root_extra_style = function(canvas_div) {\n",
       "\n",
       "}\n",
       "\n",
       "mpl.figure.prototype._init_canvas = function() {\n",
       "    var fig = this;\n",
       "\n",
       "    var canvas_div = $('<div/>');\n",
       "\n",
       "    canvas_div.attr('style', 'position: relative; clear: both; outline: 0');\n",
       "\n",
       "    function canvas_keyboard_event(event) {\n",
       "        return fig.key_event(event, event['data']);\n",
       "    }\n",
       "\n",
       "    canvas_div.keydown('key_press', canvas_keyboard_event);\n",
       "    canvas_div.keyup('key_release', canvas_keyboard_event);\n",
       "    this.canvas_div = canvas_div\n",
       "    this._canvas_extra_style(canvas_div)\n",
       "    this.root.append(canvas_div);\n",
       "\n",
       "    var canvas = $('<canvas/>');\n",
       "    canvas.addClass('mpl-canvas');\n",
       "    canvas.attr('style', \"left: 0; top: 0; z-index: 0; outline: 0\")\n",
       "\n",
       "    this.canvas = canvas[0];\n",
       "    this.context = canvas[0].getContext(\"2d\");\n",
       "\n",
       "    var backingStore = this.context.backingStorePixelRatio ||\n",
       "\tthis.context.webkitBackingStorePixelRatio ||\n",
       "\tthis.context.mozBackingStorePixelRatio ||\n",
       "\tthis.context.msBackingStorePixelRatio ||\n",
       "\tthis.context.oBackingStorePixelRatio ||\n",
       "\tthis.context.backingStorePixelRatio || 1;\n",
       "\n",
       "    mpl.ratio = (window.devicePixelRatio || 1) / backingStore;\n",
       "\n",
       "    var rubberband = $('<canvas/>');\n",
       "    rubberband.attr('style', \"position: absolute; left: 0; top: 0; z-index: 1;\")\n",
       "\n",
       "    var pass_mouse_events = true;\n",
       "\n",
       "    canvas_div.resizable({\n",
       "        start: function(event, ui) {\n",
       "            pass_mouse_events = false;\n",
       "        },\n",
       "        resize: function(event, ui) {\n",
       "            fig.request_resize(ui.size.width, ui.size.height);\n",
       "        },\n",
       "        stop: function(event, ui) {\n",
       "            pass_mouse_events = true;\n",
       "            fig.request_resize(ui.size.width, ui.size.height);\n",
       "        },\n",
       "    });\n",
       "\n",
       "    function mouse_event_fn(event) {\n",
       "        if (pass_mouse_events)\n",
       "            return fig.mouse_event(event, event['data']);\n",
       "    }\n",
       "\n",
       "    rubberband.mousedown('button_press', mouse_event_fn);\n",
       "    rubberband.mouseup('button_release', mouse_event_fn);\n",
       "    // Throttle sequential mouse events to 1 every 20ms.\n",
       "    rubberband.mousemove('motion_notify', mouse_event_fn);\n",
       "\n",
       "    rubberband.mouseenter('figure_enter', mouse_event_fn);\n",
       "    rubberband.mouseleave('figure_leave', mouse_event_fn);\n",
       "\n",
       "    canvas_div.on(\"wheel\", function (event) {\n",
       "        event = event.originalEvent;\n",
       "        event['data'] = 'scroll'\n",
       "        if (event.deltaY < 0) {\n",
       "            event.step = 1;\n",
       "        } else {\n",
       "            event.step = -1;\n",
       "        }\n",
       "        mouse_event_fn(event);\n",
       "    });\n",
       "\n",
       "    canvas_div.append(canvas);\n",
       "    canvas_div.append(rubberband);\n",
       "\n",
       "    this.rubberband = rubberband;\n",
       "    this.rubberband_canvas = rubberband[0];\n",
       "    this.rubberband_context = rubberband[0].getContext(\"2d\");\n",
       "    this.rubberband_context.strokeStyle = \"#000000\";\n",
       "\n",
       "    this._resize_canvas = function(width, height) {\n",
       "        // Keep the size of the canvas, canvas container, and rubber band\n",
       "        // canvas in synch.\n",
       "        canvas_div.css('width', width)\n",
       "        canvas_div.css('height', height)\n",
       "\n",
       "        canvas.attr('width', width * mpl.ratio);\n",
       "        canvas.attr('height', height * mpl.ratio);\n",
       "        canvas.attr('style', 'width: ' + width + 'px; height: ' + height + 'px;');\n",
       "\n",
       "        rubberband.attr('width', width);\n",
       "        rubberband.attr('height', height);\n",
       "    }\n",
       "\n",
       "    // Set the figure to an initial 600x600px, this will subsequently be updated\n",
       "    // upon first draw.\n",
       "    this._resize_canvas(600, 600);\n",
       "\n",
       "    // Disable right mouse context menu.\n",
       "    $(this.rubberband_canvas).bind(\"contextmenu\",function(e){\n",
       "        return false;\n",
       "    });\n",
       "\n",
       "    function set_focus () {\n",
       "        canvas.focus();\n",
       "        canvas_div.focus();\n",
       "    }\n",
       "\n",
       "    window.setTimeout(set_focus, 100);\n",
       "}\n",
       "\n",
       "mpl.figure.prototype._init_toolbar = function() {\n",
       "    var fig = this;\n",
       "\n",
       "    var nav_element = $('<div/>')\n",
       "    nav_element.attr('style', 'width: 100%');\n",
       "    this.root.append(nav_element);\n",
       "\n",
       "    // Define a callback function for later on.\n",
       "    function toolbar_event(event) {\n",
       "        return fig.toolbar_button_onclick(event['data']);\n",
       "    }\n",
       "    function toolbar_mouse_event(event) {\n",
       "        return fig.toolbar_button_onmouseover(event['data']);\n",
       "    }\n",
       "\n",
       "    for(var toolbar_ind in mpl.toolbar_items) {\n",
       "        var name = mpl.toolbar_items[toolbar_ind][0];\n",
       "        var tooltip = mpl.toolbar_items[toolbar_ind][1];\n",
       "        var image = mpl.toolbar_items[toolbar_ind][2];\n",
       "        var method_name = mpl.toolbar_items[toolbar_ind][3];\n",
       "\n",
       "        if (!name) {\n",
       "            // put a spacer in here.\n",
       "            continue;\n",
       "        }\n",
       "        var button = $('<button/>');\n",
       "        button.addClass('ui-button ui-widget ui-state-default ui-corner-all ' +\n",
       "                        'ui-button-icon-only');\n",
       "        button.attr('role', 'button');\n",
       "        button.attr('aria-disabled', 'false');\n",
       "        button.click(method_name, toolbar_event);\n",
       "        button.mouseover(tooltip, toolbar_mouse_event);\n",
       "\n",
       "        var icon_img = $('<span/>');\n",
       "        icon_img.addClass('ui-button-icon-primary ui-icon');\n",
       "        icon_img.addClass(image);\n",
       "        icon_img.addClass('ui-corner-all');\n",
       "\n",
       "        var tooltip_span = $('<span/>');\n",
       "        tooltip_span.addClass('ui-button-text');\n",
       "        tooltip_span.html(tooltip);\n",
       "\n",
       "        button.append(icon_img);\n",
       "        button.append(tooltip_span);\n",
       "\n",
       "        nav_element.append(button);\n",
       "    }\n",
       "\n",
       "    var fmt_picker_span = $('<span/>');\n",
       "\n",
       "    var fmt_picker = $('<select/>');\n",
       "    fmt_picker.addClass('mpl-toolbar-option ui-widget ui-widget-content');\n",
       "    fmt_picker_span.append(fmt_picker);\n",
       "    nav_element.append(fmt_picker_span);\n",
       "    this.format_dropdown = fmt_picker[0];\n",
       "\n",
       "    for (var ind in mpl.extensions) {\n",
       "        var fmt = mpl.extensions[ind];\n",
       "        var option = $(\n",
       "            '<option/>', {selected: fmt === mpl.default_extension}).html(fmt);\n",
       "        fmt_picker.append(option)\n",
       "    }\n",
       "\n",
       "    // Add hover states to the ui-buttons\n",
       "    $( \".ui-button\" ).hover(\n",
       "        function() { $(this).addClass(\"ui-state-hover\");},\n",
       "        function() { $(this).removeClass(\"ui-state-hover\");}\n",
       "    );\n",
       "\n",
       "    var status_bar = $('<span class=\"mpl-message\"/>');\n",
       "    nav_element.append(status_bar);\n",
       "    this.message = status_bar[0];\n",
       "}\n",
       "\n",
       "mpl.figure.prototype.request_resize = function(x_pixels, y_pixels) {\n",
       "    // Request matplotlib to resize the figure. Matplotlib will then trigger a resize in the client,\n",
       "    // which will in turn request a refresh of the image.\n",
       "    this.send_message('resize', {'width': x_pixels, 'height': y_pixels});\n",
       "}\n",
       "\n",
       "mpl.figure.prototype.send_message = function(type, properties) {\n",
       "    properties['type'] = type;\n",
       "    properties['figure_id'] = this.id;\n",
       "    this.ws.send(JSON.stringify(properties));\n",
       "}\n",
       "\n",
       "mpl.figure.prototype.send_draw_message = function() {\n",
       "    if (!this.waiting) {\n",
       "        this.waiting = true;\n",
       "        this.ws.send(JSON.stringify({type: \"draw\", figure_id: this.id}));\n",
       "    }\n",
       "}\n",
       "\n",
       "\n",
       "mpl.figure.prototype.handle_save = function(fig, msg) {\n",
       "    var format_dropdown = fig.format_dropdown;\n",
       "    var format = format_dropdown.options[format_dropdown.selectedIndex].value;\n",
       "    fig.ondownload(fig, format);\n",
       "}\n",
       "\n",
       "\n",
       "mpl.figure.prototype.handle_resize = function(fig, msg) {\n",
       "    var size = msg['size'];\n",
       "    if (size[0] != fig.canvas.width || size[1] != fig.canvas.height) {\n",
       "        fig._resize_canvas(size[0], size[1]);\n",
       "        fig.send_message(\"refresh\", {});\n",
       "    };\n",
       "}\n",
       "\n",
       "mpl.figure.prototype.handle_rubberband = function(fig, msg) {\n",
       "    var x0 = msg['x0'] / mpl.ratio;\n",
       "    var y0 = (fig.canvas.height - msg['y0']) / mpl.ratio;\n",
       "    var x1 = msg['x1'] / mpl.ratio;\n",
       "    var y1 = (fig.canvas.height - msg['y1']) / mpl.ratio;\n",
       "    x0 = Math.floor(x0) + 0.5;\n",
       "    y0 = Math.floor(y0) + 0.5;\n",
       "    x1 = Math.floor(x1) + 0.5;\n",
       "    y1 = Math.floor(y1) + 0.5;\n",
       "    var min_x = Math.min(x0, x1);\n",
       "    var min_y = Math.min(y0, y1);\n",
       "    var width = Math.abs(x1 - x0);\n",
       "    var height = Math.abs(y1 - y0);\n",
       "\n",
       "    fig.rubberband_context.clearRect(\n",
       "        0, 0, fig.canvas.width, fig.canvas.height);\n",
       "\n",
       "    fig.rubberband_context.strokeRect(min_x, min_y, width, height);\n",
       "}\n",
       "\n",
       "mpl.figure.prototype.handle_figure_label = function(fig, msg) {\n",
       "    // Updates the figure title.\n",
       "    fig.header.textContent = msg['label'];\n",
       "}\n",
       "\n",
       "mpl.figure.prototype.handle_cursor = function(fig, msg) {\n",
       "    var cursor = msg['cursor'];\n",
       "    switch(cursor)\n",
       "    {\n",
       "    case 0:\n",
       "        cursor = 'pointer';\n",
       "        break;\n",
       "    case 1:\n",
       "        cursor = 'default';\n",
       "        break;\n",
       "    case 2:\n",
       "        cursor = 'crosshair';\n",
       "        break;\n",
       "    case 3:\n",
       "        cursor = 'move';\n",
       "        break;\n",
       "    }\n",
       "    fig.rubberband_canvas.style.cursor = cursor;\n",
       "}\n",
       "\n",
       "mpl.figure.prototype.handle_message = function(fig, msg) {\n",
       "    fig.message.textContent = msg['message'];\n",
       "}\n",
       "\n",
       "mpl.figure.prototype.handle_draw = function(fig, msg) {\n",
       "    // Request the server to send over a new figure.\n",
       "    fig.send_draw_message();\n",
       "}\n",
       "\n",
       "mpl.figure.prototype.handle_image_mode = function(fig, msg) {\n",
       "    fig.image_mode = msg['mode'];\n",
       "}\n",
       "\n",
       "mpl.figure.prototype.updated_canvas_event = function() {\n",
       "    // Called whenever the canvas gets updated.\n",
       "    this.send_message(\"ack\", {});\n",
       "}\n",
       "\n",
       "// A function to construct a web socket function for onmessage handling.\n",
       "// Called in the figure constructor.\n",
       "mpl.figure.prototype._make_on_message_function = function(fig) {\n",
       "    return function socket_on_message(evt) {\n",
       "        if (evt.data instanceof Blob) {\n",
       "            /* FIXME: We get \"Resource interpreted as Image but\n",
       "             * transferred with MIME type text/plain:\" errors on\n",
       "             * Chrome.  But how to set the MIME type?  It doesn't seem\n",
       "             * to be part of the websocket stream */\n",
       "            evt.data.type = \"image/png\";\n",
       "\n",
       "            /* Free the memory for the previous frames */\n",
       "            if (fig.imageObj.src) {\n",
       "                (window.URL || window.webkitURL).revokeObjectURL(\n",
       "                    fig.imageObj.src);\n",
       "            }\n",
       "\n",
       "            fig.imageObj.src = (window.URL || window.webkitURL).createObjectURL(\n",
       "                evt.data);\n",
       "            fig.updated_canvas_event();\n",
       "            fig.waiting = false;\n",
       "            return;\n",
       "        }\n",
       "        else if (typeof evt.data === 'string' && evt.data.slice(0, 21) == \"data:image/png;base64\") {\n",
       "            fig.imageObj.src = evt.data;\n",
       "            fig.updated_canvas_event();\n",
       "            fig.waiting = false;\n",
       "            return;\n",
       "        }\n",
       "\n",
       "        var msg = JSON.parse(evt.data);\n",
       "        var msg_type = msg['type'];\n",
       "\n",
       "        // Call the  \"handle_{type}\" callback, which takes\n",
       "        // the figure and JSON message as its only arguments.\n",
       "        try {\n",
       "            var callback = fig[\"handle_\" + msg_type];\n",
       "        } catch (e) {\n",
       "            console.log(\"No handler for the '\" + msg_type + \"' message type: \", msg);\n",
       "            return;\n",
       "        }\n",
       "\n",
       "        if (callback) {\n",
       "            try {\n",
       "                // console.log(\"Handling '\" + msg_type + \"' message: \", msg);\n",
       "                callback(fig, msg);\n",
       "            } catch (e) {\n",
       "                console.log(\"Exception inside the 'handler_\" + msg_type + \"' callback:\", e, e.stack, msg);\n",
       "            }\n",
       "        }\n",
       "    };\n",
       "}\n",
       "\n",
       "// from http://stackoverflow.com/questions/1114465/getting-mouse-location-in-canvas\n",
       "mpl.findpos = function(e) {\n",
       "    //this section is from http://www.quirksmode.org/js/events_properties.html\n",
       "    var targ;\n",
       "    if (!e)\n",
       "        e = window.event;\n",
       "    if (e.target)\n",
       "        targ = e.target;\n",
       "    else if (e.srcElement)\n",
       "        targ = e.srcElement;\n",
       "    if (targ.nodeType == 3) // defeat Safari bug\n",
       "        targ = targ.parentNode;\n",
       "\n",
       "    // jQuery normalizes the pageX and pageY\n",
       "    // pageX,Y are the mouse positions relative to the document\n",
       "    // offset() returns the position of the element relative to the document\n",
       "    var x = e.pageX - $(targ).offset().left;\n",
       "    var y = e.pageY - $(targ).offset().top;\n",
       "\n",
       "    return {\"x\": x, \"y\": y};\n",
       "};\n",
       "\n",
       "/*\n",
       " * return a copy of an object with only non-object keys\n",
       " * we need this to avoid circular references\n",
       " * http://stackoverflow.com/a/24161582/3208463\n",
       " */\n",
       "function simpleKeys (original) {\n",
       "  return Object.keys(original).reduce(function (obj, key) {\n",
       "    if (typeof original[key] !== 'object')\n",
       "        obj[key] = original[key]\n",
       "    return obj;\n",
       "  }, {});\n",
       "}\n",
       "\n",
       "mpl.figure.prototype.mouse_event = function(event, name) {\n",
       "    var canvas_pos = mpl.findpos(event)\n",
       "\n",
       "    if (name === 'button_press')\n",
       "    {\n",
       "        this.canvas.focus();\n",
       "        this.canvas_div.focus();\n",
       "    }\n",
       "\n",
       "    var x = canvas_pos.x * mpl.ratio;\n",
       "    var y = canvas_pos.y * mpl.ratio;\n",
       "\n",
       "    this.send_message(name, {x: x, y: y, button: event.button,\n",
       "                             step: event.step,\n",
       "                             guiEvent: simpleKeys(event)});\n",
       "\n",
       "    /* This prevents the web browser from automatically changing to\n",
       "     * the text insertion cursor when the button is pressed.  We want\n",
       "     * to control all of the cursor setting manually through the\n",
       "     * 'cursor' event from matplotlib */\n",
       "    event.preventDefault();\n",
       "    return false;\n",
       "}\n",
       "\n",
       "mpl.figure.prototype._key_event_extra = function(event, name) {\n",
       "    // Handle any extra behaviour associated with a key event\n",
       "}\n",
       "\n",
       "mpl.figure.prototype.key_event = function(event, name) {\n",
       "\n",
       "    // Prevent repeat events\n",
       "    if (name == 'key_press')\n",
       "    {\n",
       "        if (event.which === this._key)\n",
       "            return;\n",
       "        else\n",
       "            this._key = event.which;\n",
       "    }\n",
       "    if (name == 'key_release')\n",
       "        this._key = null;\n",
       "\n",
       "    var value = '';\n",
       "    if (event.ctrlKey && event.which != 17)\n",
       "        value += \"ctrl+\";\n",
       "    if (event.altKey && event.which != 18)\n",
       "        value += \"alt+\";\n",
       "    if (event.shiftKey && event.which != 16)\n",
       "        value += \"shift+\";\n",
       "\n",
       "    value += 'k';\n",
       "    value += event.which.toString();\n",
       "\n",
       "    this._key_event_extra(event, name);\n",
       "\n",
       "    this.send_message(name, {key: value,\n",
       "                             guiEvent: simpleKeys(event)});\n",
       "    return false;\n",
       "}\n",
       "\n",
       "mpl.figure.prototype.toolbar_button_onclick = function(name) {\n",
       "    if (name == 'download') {\n",
       "        this.handle_save(this, null);\n",
       "    } else {\n",
       "        this.send_message(\"toolbar_button\", {name: name});\n",
       "    }\n",
       "};\n",
       "\n",
       "mpl.figure.prototype.toolbar_button_onmouseover = function(tooltip) {\n",
       "    this.message.textContent = tooltip;\n",
       "};\n",
       "mpl.toolbar_items = [[\"Home\", \"Reset original view\", \"fa fa-home icon-home\", \"home\"], [\"Back\", \"Back to  previous view\", \"fa fa-arrow-left icon-arrow-left\", \"back\"], [\"Forward\", \"Forward to next view\", \"fa fa-arrow-right icon-arrow-right\", \"forward\"], [\"\", \"\", \"\", \"\"], [\"Pan\", \"Pan axes with left mouse, zoom with right\", \"fa fa-arrows icon-move\", \"pan\"], [\"Zoom\", \"Zoom to rectangle\", \"fa fa-square-o icon-check-empty\", \"zoom\"], [\"\", \"\", \"\", \"\"], [\"Download\", \"Download plot\", \"fa fa-floppy-o icon-save\", \"download\"]];\n",
       "\n",
       "mpl.extensions = [\"eps\", \"pdf\", \"png\", \"ps\", \"raw\", \"svg\"];\n",
       "\n",
       "mpl.default_extension = \"png\";var comm_websocket_adapter = function(comm) {\n",
       "    // Create a \"websocket\"-like object which calls the given IPython comm\n",
       "    // object with the appropriate methods. Currently this is a non binary\n",
       "    // socket, so there is still some room for performance tuning.\n",
       "    var ws = {};\n",
       "\n",
       "    ws.close = function() {\n",
       "        comm.close()\n",
       "    };\n",
       "    ws.send = function(m) {\n",
       "        //console.log('sending', m);\n",
       "        comm.send(m);\n",
       "    };\n",
       "    // Register the callback with on_msg.\n",
       "    comm.on_msg(function(msg) {\n",
       "        //console.log('receiving', msg['content']['data'], msg);\n",
       "        // Pass the mpl event to the overridden (by mpl) onmessage function.\n",
       "        ws.onmessage(msg['content']['data'])\n",
       "    });\n",
       "    return ws;\n",
       "}\n",
       "\n",
       "mpl.mpl_figure_comm = function(comm, msg) {\n",
       "    // This is the function which gets called when the mpl process\n",
       "    // starts-up an IPython Comm through the \"matplotlib\" channel.\n",
       "\n",
       "    var id = msg.content.data.id;\n",
       "    // Get hold of the div created by the display call when the Comm\n",
       "    // socket was opened in Python.\n",
       "    var element = $(\"#\" + id);\n",
       "    var ws_proxy = comm_websocket_adapter(comm)\n",
       "\n",
       "    function ondownload(figure, format) {\n",
       "        window.open(figure.imageObj.src);\n",
       "    }\n",
       "\n",
       "    var fig = new mpl.figure(id, ws_proxy,\n",
       "                           ondownload,\n",
       "                           element.get(0));\n",
       "\n",
       "    // Call onopen now - mpl needs it, as it is assuming we've passed it a real\n",
       "    // web socket which is closed, not our websocket->open comm proxy.\n",
       "    ws_proxy.onopen();\n",
       "\n",
       "    fig.parent_element = element.get(0);\n",
       "    fig.cell_info = mpl.find_output_cell(\"<div id='\" + id + \"'></div>\");\n",
       "    if (!fig.cell_info) {\n",
       "        console.error(\"Failed to find cell for figure\", id, fig);\n",
       "        return;\n",
       "    }\n",
       "\n",
       "    var output_index = fig.cell_info[2]\n",
       "    var cell = fig.cell_info[0];\n",
       "\n",
       "};\n",
       "\n",
       "mpl.figure.prototype.handle_close = function(fig, msg) {\n",
       "    var width = fig.canvas.width/mpl.ratio\n",
       "    fig.root.unbind('remove')\n",
       "\n",
       "    // Update the output cell to use the data from the current canvas.\n",
       "    fig.push_to_output();\n",
       "    var dataURL = fig.canvas.toDataURL();\n",
       "    // Re-enable the keyboard manager in IPython - without this line, in FF,\n",
       "    // the notebook keyboard shortcuts fail.\n",
       "    IPython.keyboard_manager.enable()\n",
       "    $(fig.parent_element).html('<img src=\"' + dataURL + '\" width=\"' + width + '\">');\n",
       "    fig.close_ws(fig, msg);\n",
       "}\n",
       "\n",
       "mpl.figure.prototype.close_ws = function(fig, msg){\n",
       "    fig.send_message('closing', msg);\n",
       "    // fig.ws.close()\n",
       "}\n",
       "\n",
       "mpl.figure.prototype.push_to_output = function(remove_interactive) {\n",
       "    // Turn the data on the canvas into data in the output cell.\n",
       "    var width = this.canvas.width/mpl.ratio\n",
       "    var dataURL = this.canvas.toDataURL();\n",
       "    this.cell_info[1]['text/html'] = '<img src=\"' + dataURL + '\" width=\"' + width + '\">';\n",
       "}\n",
       "\n",
       "mpl.figure.prototype.updated_canvas_event = function() {\n",
       "    // Tell IPython that the notebook contents must change.\n",
       "    IPython.notebook.set_dirty(true);\n",
       "    this.send_message(\"ack\", {});\n",
       "    var fig = this;\n",
       "    // Wait a second, then push the new image to the DOM so\n",
       "    // that it is saved nicely (might be nice to debounce this).\n",
       "    setTimeout(function () { fig.push_to_output() }, 1000);\n",
       "}\n",
       "\n",
       "mpl.figure.prototype._init_toolbar = function() {\n",
       "    var fig = this;\n",
       "\n",
       "    var nav_element = $('<div/>')\n",
       "    nav_element.attr('style', 'width: 100%');\n",
       "    this.root.append(nav_element);\n",
       "\n",
       "    // Define a callback function for later on.\n",
       "    function toolbar_event(event) {\n",
       "        return fig.toolbar_button_onclick(event['data']);\n",
       "    }\n",
       "    function toolbar_mouse_event(event) {\n",
       "        return fig.toolbar_button_onmouseover(event['data']);\n",
       "    }\n",
       "\n",
       "    for(var toolbar_ind in mpl.toolbar_items){\n",
       "        var name = mpl.toolbar_items[toolbar_ind][0];\n",
       "        var tooltip = mpl.toolbar_items[toolbar_ind][1];\n",
       "        var image = mpl.toolbar_items[toolbar_ind][2];\n",
       "        var method_name = mpl.toolbar_items[toolbar_ind][3];\n",
       "\n",
       "        if (!name) { continue; };\n",
       "\n",
       "        var button = $('<button class=\"btn btn-default\" href=\"#\" title=\"' + name + '\"><i class=\"fa ' + image + ' fa-lg\"></i></button>');\n",
       "        button.click(method_name, toolbar_event);\n",
       "        button.mouseover(tooltip, toolbar_mouse_event);\n",
       "        nav_element.append(button);\n",
       "    }\n",
       "\n",
       "    // Add the status bar.\n",
       "    var status_bar = $('<span class=\"mpl-message\" style=\"text-align:right; float: right;\"/>');\n",
       "    nav_element.append(status_bar);\n",
       "    this.message = status_bar[0];\n",
       "\n",
       "    // Add the close button to the window.\n",
       "    var buttongrp = $('<div class=\"btn-group inline pull-right\"></div>');\n",
       "    var button = $('<button class=\"btn btn-mini btn-primary\" href=\"#\" title=\"Stop Interaction\"><i class=\"fa fa-power-off icon-remove icon-large\"></i></button>');\n",
       "    button.click(function (evt) { fig.handle_close(fig, {}); } );\n",
       "    button.mouseover('Stop Interaction', toolbar_mouse_event);\n",
       "    buttongrp.append(button);\n",
       "    var titlebar = this.root.find($('.ui-dialog-titlebar'));\n",
       "    titlebar.prepend(buttongrp);\n",
       "}\n",
       "\n",
       "mpl.figure.prototype._root_extra_style = function(el){\n",
       "    var fig = this\n",
       "    el.on(\"remove\", function(){\n",
       "\tfig.close_ws(fig, {});\n",
       "    });\n",
       "}\n",
       "\n",
       "mpl.figure.prototype._canvas_extra_style = function(el){\n",
       "    // this is important to make the div 'focusable\n",
       "    el.attr('tabindex', 0)\n",
       "    // reach out to IPython and tell the keyboard manager to turn it's self\n",
       "    // off when our div gets focus\n",
       "\n",
       "    // location in version 3\n",
       "    if (IPython.notebook.keyboard_manager) {\n",
       "        IPython.notebook.keyboard_manager.register_events(el);\n",
       "    }\n",
       "    else {\n",
       "        // location in version 2\n",
       "        IPython.keyboard_manager.register_events(el);\n",
       "    }\n",
       "\n",
       "}\n",
       "\n",
       "mpl.figure.prototype._key_event_extra = function(event, name) {\n",
       "    var manager = IPython.notebook.keyboard_manager;\n",
       "    if (!manager)\n",
       "        manager = IPython.keyboard_manager;\n",
       "\n",
       "    // Check for shift+enter\n",
       "    if (event.shiftKey && event.which == 13) {\n",
       "        this.canvas_div.blur();\n",
       "        event.shiftKey = false;\n",
       "        // Send a \"J\" for go to next cell\n",
       "        event.which = 74;\n",
       "        event.keyCode = 74;\n",
       "        manager.command_mode();\n",
       "        manager.handle_keydown(event);\n",
       "    }\n",
       "}\n",
       "\n",
       "mpl.figure.prototype.handle_save = function(fig, msg) {\n",
       "    fig.ondownload(fig, null);\n",
       "}\n",
       "\n",
       "\n",
       "mpl.find_output_cell = function(html_output) {\n",
       "    // Return the cell and output element which can be found *uniquely* in the notebook.\n",
       "    // Note - this is a bit hacky, but it is done because the \"notebook_saving.Notebook\"\n",
       "    // IPython event is triggered only after the cells have been serialised, which for\n",
       "    // our purposes (turning an active figure into a static one), is too late.\n",
       "    var cells = IPython.notebook.get_cells();\n",
       "    var ncells = cells.length;\n",
       "    for (var i=0; i<ncells; i++) {\n",
       "        var cell = cells[i];\n",
       "        if (cell.cell_type === 'code'){\n",
       "            for (var j=0; j<cell.output_area.outputs.length; j++) {\n",
       "                var data = cell.output_area.outputs[j];\n",
       "                if (data.data) {\n",
       "                    // IPython >= 3 moved mimebundle to data attribute of output\n",
       "                    data = data.data;\n",
       "                }\n",
       "                if (data['text/html'] == html_output) {\n",
       "                    return [cell, data, j];\n",
       "                }\n",
       "            }\n",
       "        }\n",
       "    }\n",
       "}\n",
       "\n",
       "// Register the function which deals with the matplotlib target/channel.\n",
       "// The kernel may be null if the page has been refreshed.\n",
       "if (IPython.notebook.kernel != null) {\n",
       "    IPython.notebook.kernel.comm_manager.register_target('matplotlib', mpl.mpl_figure_comm);\n",
       "}\n"
      ],
      "text/plain": [
       "<IPython.core.display.Javascript object>"
      ]
     },
     "metadata": {},
     "output_type": "display_data"
    },
    {
     "data": {
      "text/html": [
       "<img src=\"data:image/png;base64,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\" width=\"640\">"
      ],
      "text/plain": [
       "<IPython.core.display.HTML object>"
      ]
     },
     "metadata": {},
     "output_type": "display_data"
    },
    {
     "data": {
      "application/vnd.jupyter.widget-view+json": {
       "model_id": "3518256e2ba14a04afcdf14b0efa4cca",
       "version_major": 2,
       "version_minor": 0
      },
      "text/plain": [
       "interactive(children=(FloatSlider(value=1.0, description='w', max=3.0, min=-1.0), Output()), _dom_classes=('wi…"
      ]
     },
     "metadata": {},
     "output_type": "display_data"
    },
    {
     "data": {
      "text/plain": [
       "<function __main__.update(w=1.0)>"
      ]
     },
     "execution_count": 32,
     "metadata": {},
     "output_type": "execute_result"
    }
   ],
   "source": [
    "%matplotlib notebook\n",
    "import numpy as np\n",
    "import matplotlib.pyplot as plt\n",
    "\n",
    "\n",
    "def gaussian(X, sigma=1, mu=0):\n",
    "    Y = []\n",
    "    if sigma == 0:\n",
    "        return [0 for _ in X]\n",
    "    \n",
    "    left = 1 / (sigma * np.sqrt(2 * np.pi))\n",
    "    for x in X:\n",
    "        right = np.exp(-0.5 * np.power((x - mu) / sigma, 2))\n",
    "        Y.append(left * right)\n",
    "    return Y\n",
    "\n",
    "x = np.linspace(-10, 10, num=200)\n",
    "fig = plt.figure()\n",
    "ax = fig.add_subplot(1, 1, 1)\n",
    "line, = ax.plot(x, gaussian(x)) # np.sin(x))\n",
    "\n",
    "def update(w = 1.0):\n",
    "    line.set_ydata(gaussian(x, sigma=w))\n",
    "    fig.canvas.draw()\n",
    "\n",
    "widgets.interact(update)"
   ]
  },
  {
   "cell_type": "code",
   "execution_count": null,
   "metadata": {},
   "outputs": [],
   "source": []
  }
 ],
 "metadata": {
  "kernelspec": {
   "display_name": "Python 3",
   "language": "python",
   "name": "python3"
  },
  "language_info": {
   "codemirror_mode": {
    "name": "ipython",
    "version": 3
   },
   "file_extension": ".py",
   "mimetype": "text/x-python",
   "name": "python",
   "nbconvert_exporter": "python",
   "pygments_lexer": "ipython3",
   "version": "3.6.5"
  }
 },
 "nbformat": 4,
 "nbformat_minor": 2
}
